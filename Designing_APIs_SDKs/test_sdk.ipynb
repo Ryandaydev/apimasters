{
 "cells": [
  {
   "cell_type": "markdown",
   "id": "404f7ecc",
   "metadata": {},
   "source": [
    "# Using SDKs\n",
    "## Exploratory Data Analysis"
   ]
  },
  {
   "cell_type": "code",
   "execution_count": 1,
   "id": "2bed3ade",
   "metadata": {},
   "outputs": [],
   "source": [
    "import logging\n",
    "\n",
    "# Configure the root logger\n",
    "logging.basicConfig(\n",
    "    level=logging.ERROR,  # 👈 this enables DEBUG level output\n",
    "    format=\"%(asctime)s [%(levelname)s] %(name)s - %(message)s\"\n",
    ")\n"
   ]
  },
  {
   "cell_type": "markdown",
   "id": "b1e63aa7",
   "metadata": {},
   "source": [
    "Import SDK and supporting libraries"
   ]
  },
  {
   "cell_type": "code",
   "execution_count": 2,
   "id": "b97a713a",
   "metadata": {},
   "outputs": [],
   "source": [
    "from swcpy.swc_client import SWCClient\n",
    "from swcpy.swc_config import SWCConfig\n",
    "import pandas as pd"
   ]
  },
  {
   "cell_type": "code",
   "execution_count": 3,
   "id": "bd89d41b",
   "metadata": {},
   "outputs": [
    {
     "name": "stdout",
     "output_type": "stream",
     "text": [
      "SWC_API_BASE_URL in SWCConfig init: https://api.sportsworldcentral.com/\n"
     ]
    }
   ],
   "source": [
    "config = SWCConfig()\n",
    "client = SWCClient(config)    "
   ]
  },
  {
   "cell_type": "code",
   "execution_count": 19,
   "id": "4017cce8",
   "metadata": {},
   "outputs": [
    {
     "data": {
      "text/plain": [
       "(100, 7)"
      ]
     },
     "metadata": {},
     "output_type": "display_data"
    },
    {
     "data": {
      "text/html": [
       "<div>\n",
       "<style scoped>\n",
       "    .dataframe tbody tr th:only-of-type {\n",
       "        vertical-align: middle;\n",
       "    }\n",
       "\n",
       "    .dataframe tbody tr th {\n",
       "        vertical-align: top;\n",
       "    }\n",
       "\n",
       "    .dataframe thead th {\n",
       "        text-align: right;\n",
       "    }\n",
       "</style>\n",
       "<table border=\"1\" class=\"dataframe\">\n",
       "  <thead>\n",
       "    <tr style=\"text-align: right;\">\n",
       "      <th></th>\n",
       "      <th>player_id</th>\n",
       "      <th>gsis_id</th>\n",
       "      <th>first_name</th>\n",
       "      <th>last_name</th>\n",
       "      <th>position</th>\n",
       "      <th>last_changed_date</th>\n",
       "      <th>performances</th>\n",
       "    </tr>\n",
       "  </thead>\n",
       "  <tbody>\n",
       "    <tr>\n",
       "      <th>0</th>\n",
       "      <td>1001</td>\n",
       "      <td>00-0023459</td>\n",
       "      <td>Aaron</td>\n",
       "      <td>Rodgers</td>\n",
       "      <td>QB</td>\n",
       "      <td>2024-04-18</td>\n",
       "      <td>[{'performance_id': 2501, 'player_id': 1001, '...</td>\n",
       "    </tr>\n",
       "    <tr>\n",
       "      <th>1</th>\n",
       "      <td>1002</td>\n",
       "      <td>00-0023853</td>\n",
       "      <td>Matt</td>\n",
       "      <td>Prater</td>\n",
       "      <td>K</td>\n",
       "      <td>2024-04-18</td>\n",
       "      <td>[{'performance_id': 2502, 'player_id': 1002, '...</td>\n",
       "    </tr>\n",
       "    <tr>\n",
       "      <th>2</th>\n",
       "      <td>1003</td>\n",
       "      <td>00-0024243</td>\n",
       "      <td>Marcedes</td>\n",
       "      <td>Lewis</td>\n",
       "      <td>TE</td>\n",
       "      <td>2024-04-18</td>\n",
       "      <td>[{'performance_id': 2503, 'player_id': 1003, '...</td>\n",
       "    </tr>\n",
       "  </tbody>\n",
       "</table>\n",
       "</div>"
      ],
      "text/plain": [
       "   player_id     gsis_id first_name last_name position last_changed_date  \\\n",
       "0       1001  00-0023459      Aaron   Rodgers       QB        2024-04-18   \n",
       "1       1002  00-0023853       Matt    Prater        K        2024-04-18   \n",
       "2       1003  00-0024243   Marcedes     Lewis       TE        2024-04-18   \n",
       "\n",
       "                                        performances  \n",
       "0  [{'performance_id': 2501, 'player_id': 1001, '...  \n",
       "1  [{'performance_id': 2502, 'player_id': 1002, '...  \n",
       "2  [{'performance_id': 2503, 'player_id': 1003, '...  "
      ]
     },
     "metadata": {},
     "output_type": "display_data"
    },
    {
     "data": {
      "text/html": [
       "<div>\n",
       "<style scoped>\n",
       "    .dataframe tbody tr th:only-of-type {\n",
       "        vertical-align: middle;\n",
       "    }\n",
       "\n",
       "    .dataframe tbody tr th {\n",
       "        vertical-align: top;\n",
       "    }\n",
       "\n",
       "    .dataframe thead th {\n",
       "        text-align: right;\n",
       "    }\n",
       "</style>\n",
       "<table border=\"1\" class=\"dataframe\">\n",
       "  <thead>\n",
       "    <tr style=\"text-align: right;\">\n",
       "      <th></th>\n",
       "      <th>player_id</th>\n",
       "      <th>gsis_id</th>\n",
       "      <th>first_name</th>\n",
       "      <th>last_name</th>\n",
       "      <th>position</th>\n",
       "      <th>last_changed_date</th>\n",
       "      <th>performances</th>\n",
       "    </tr>\n",
       "  </thead>\n",
       "  <tbody>\n",
       "    <tr>\n",
       "      <th>97</th>\n",
       "      <td>1098</td>\n",
       "      <td>00-0032398</td>\n",
       "      <td>Chris</td>\n",
       "      <td>Moore</td>\n",
       "      <td>WR</td>\n",
       "      <td>2024-04-18</td>\n",
       "      <td>[{'performance_id': 2598, 'player_id': 1098, '...</td>\n",
       "    </tr>\n",
       "    <tr>\n",
       "      <th>98</th>\n",
       "      <td>1099</td>\n",
       "      <td>00-0032434</td>\n",
       "      <td>Brandon</td>\n",
       "      <td>Allen</td>\n",
       "      <td>QB</td>\n",
       "      <td>2024-04-18</td>\n",
       "      <td>[{'performance_id': 2599, 'player_id': 1099, '...</td>\n",
       "    </tr>\n",
       "    <tr>\n",
       "      <th>99</th>\n",
       "      <td>1100</td>\n",
       "      <td>00-0032436</td>\n",
       "      <td>Jeff</td>\n",
       "      <td>Driskel</td>\n",
       "      <td>QB</td>\n",
       "      <td>2024-04-18</td>\n",
       "      <td>[{'performance_id': 2600, 'player_id': 1100, '...</td>\n",
       "    </tr>\n",
       "  </tbody>\n",
       "</table>\n",
       "</div>"
      ],
      "text/plain": [
       "    player_id     gsis_id first_name last_name position last_changed_date  \\\n",
       "97       1098  00-0032398      Chris     Moore       WR        2024-04-18   \n",
       "98       1099  00-0032434    Brandon     Allen       QB        2024-04-18   \n",
       "99       1100  00-0032436       Jeff   Driskel       QB        2024-04-18   \n",
       "\n",
       "                                         performances  \n",
       "97  [{'performance_id': 2598, 'player_id': 1098, '...  \n",
       "98  [{'performance_id': 2599, 'player_id': 1099, '...  \n",
       "99  [{'performance_id': 2600, 'player_id': 1100, '...  "
      ]
     },
     "metadata": {},
     "output_type": "display_data"
    }
   ],
   "source": [
    "sdk_player_list = client.list_players()\n",
    "player_df = pd.DataFrame([player.model_dump() for player in sdk_player_list])\n",
    "display(player_df.shape)\n",
    "display(player_df.head(3))\n",
    "display(player_df.tail(3))\n"
   ]
  },
  {
   "cell_type": "code",
   "execution_count": 20,
   "id": "2eccbad5",
   "metadata": {},
   "outputs": [
    {
     "data": {
      "text/plain": [
       "count    100.0\n",
       "mean      17.0\n",
       "std        0.0\n",
       "min       17.0\n",
       "25%       17.0\n",
       "50%       17.0\n",
       "75%       17.0\n",
       "max       17.0\n",
       "Name: performance_count, dtype: float64"
      ]
     },
     "execution_count": 20,
     "metadata": {},
     "output_type": "execute_result"
    }
   ],
   "source": [
    "player_df[\"performance_count\"] = player_df[\"performances\"].apply(len)\n",
    "player_df[\"performance_count\"].describe()\n"
   ]
  }
 ],
 "metadata": {
  "kernelspec": {
   "display_name": "Python 3",
   "language": "python",
   "name": "python3"
  },
  "language_info": {
   "codemirror_mode": {
    "name": "ipython",
    "version": 3
   },
   "file_extension": ".py",
   "mimetype": "text/x-python",
   "name": "python",
   "nbconvert_exporter": "python",
   "pygments_lexer": "ipython3",
   "version": "3.12.1"
  }
 },
 "nbformat": 4,
 "nbformat_minor": 5
}
