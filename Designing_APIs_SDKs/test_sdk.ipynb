{
 "cells": [
  {
   "cell_type": "markdown",
   "id": "404f7ecc",
   "metadata": {},
   "source": [
    "# Using SDKs\n",
    "## Exploratory Data Analysis"
   ]
  },
  {
   "cell_type": "code",
   "execution_count": null,
   "id": "b97a713a",
   "metadata": {},
   "outputs": [],
   "source": [
    "from swcpy import SWCClient, SWCConfig\n",
    "import pandas as pd"
   ]
  },
  {
   "cell_type": "markdown",
   "id": "9f943e74",
   "metadata": {},
   "source": []
  },
  {
   "cell_type": "markdown",
   "id": "8c0a005b",
   "metadata": {},
   "source": []
  },
  {
   "cell_type": "markdown",
   "id": "735763b7",
   "metadata": {},
   "source": []
  }
 ],
 "metadata": {
  "language_info": {
   "name": "python"
  }
 },
 "nbformat": 4,
 "nbformat_minor": 5
}
