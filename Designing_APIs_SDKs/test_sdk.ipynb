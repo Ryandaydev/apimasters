{
 "cells": [
  {
   "cell_type": "markdown",
   "id": "404f7ecc",
   "metadata": {},
   "source": [
    "# Using SDKs\n",
    "## Exploratory Data Analysis"
   ]
  },
  {
   "cell_type": "code",
   "execution_count": 1,
   "id": "b97a713a",
   "metadata": {},
   "outputs": [],
   "source": [
    "from swcpy.swc_client import SWCClient\n",
    "from swcpy.swc_config import SWCConfig"
   ]
  },
  {
   "cell_type": "code",
   "execution_count": 2,
   "id": "e78ab263",
   "metadata": {},
   "outputs": [
    {
     "name": "stdout",
     "output_type": "stream",
     "text": [
      "/usr/local/python/3.12.1/lib/python3.12/site-packages/swcpy/__init__.py\n",
      "['swc_client.py', 'schemas', '__init__.py', '__pycache__', 'swc_config.py']\n"
     ]
    }
   ],
   "source": [
    "import swcpy, inspect, os\n",
    "print(swcpy.__file__)\n",
    "print(os.listdir(os.path.dirname(swcpy.__file__)))"
   ]
  },
  {
   "cell_type": "code",
   "execution_count": 3,
   "id": "63b5eeee",
   "metadata": {},
   "outputs": [
    {
     "name": "stdout",
     "output_type": "stream",
     "text": [
      "True\n",
      "class SWCClient:\n",
      "    \"\"\"Interacts with the Sports World Central API.\n",
      "\n",
      "        This SDK class simplifies the process of using the SWC fantasy\n",
      "        football API. It supports all the functions of SWC \n"
     ]
    }
   ],
   "source": [
    "# Make sure the class is actually present\n",
    "import inspect\n",
    "import swcpy.swc_client as sc\n",
    "print(hasattr(sc, \"SWCClient\"))\n",
    "print(inspect.getsource(sc.SWCClient)[:200])  # peek at definition\n"
   ]
  },
  {
   "cell_type": "code",
   "execution_count": 4,
   "id": "bd89d41b",
   "metadata": {},
   "outputs": [
    {
     "name": "stdout",
     "output_type": "stream",
     "text": [
      "SWC_API_BASE_URL in SWCConfig init: https://api.sportsworldcentral.com/\n"
     ]
    }
   ],
   "source": [
    "config = SWCConfig()\n",
    "client = SWCClient(config)    "
   ]
  },
  {
   "cell_type": "code",
   "execution_count": 5,
   "id": "03547c60",
   "metadata": {},
   "outputs": [
    {
     "data": {
      "text/plain": [
       "<bound method SWCClient.list_players of <swcpy.swc_client.SWCClient object at 0x7a80446eba10>>"
      ]
     },
     "execution_count": 5,
     "metadata": {},
     "output_type": "execute_result"
    }
   ],
   "source": [
    "client.list_players"
   ]
  },
  {
   "cell_type": "code",
   "execution_count": 6,
   "id": "4017cce8",
   "metadata": {},
   "outputs": [
    {
     "name": "stdout",
     "output_type": "stream",
     "text": [
      "[League(league_id=5001, league_name='Pigskin Prodigal Fantasy League', scoring_type='PPR', last_changed_date=datetime.date(2024, 4, 25), teams=[TeamBase(league_id=5001, team_id=1007, team_name='Checkers Not Chess', last_changed_date=datetime.date(2024, 4, 23)), TeamBase(league_id=5001, team_id=1003, team_name='Dallas Steers', last_changed_date=datetime.date(2024, 4, 23)), TeamBase(league_id=5001, team_id=1008, team_name='Defending Champs', last_changed_date=datetime.date(2024, 4, 23)), TeamBase(league_id=5001, team_id=1011, team_name='Double Option', last_changed_date=datetime.date(2024, 4, 23)), TeamBase(league_id=5001, team_id=1005, team_name='Fighting Catfish', last_changed_date=datetime.date(2024, 4, 23)), TeamBase(league_id=5001, team_id=1010, team_name='Fumblerooski', last_changed_date=datetime.date(2024, 4, 23)), TeamBase(league_id=5001, team_id=1004, team_name='Never Gonna Give Up', last_changed_date=datetime.date(2024, 4, 23)), TeamBase(league_id=5001, team_id=1002, team_name='Pigskin Party', last_changed_date=datetime.date(2024, 4, 23)), TeamBase(league_id=5001, team_id=1001, team_name='Roaring Kitties', last_changed_date=datetime.date(2024, 4, 23)), TeamBase(league_id=5001, team_id=1009, team_name='Team Generic', last_changed_date=datetime.date(2024, 4, 23)), TeamBase(league_id=5001, team_id=1006, team_name='Wallaby Stew', last_changed_date=datetime.date(2024, 4, 23)), TeamBase(league_id=5001, team_id=1012, team_name='Wicked Awesome', last_changed_date=datetime.date(2024, 4, 23))]), League(league_id=5002, league_name='Recurring Champions League', scoring_type='Half-PPR', last_changed_date=datetime.date(2024, 4, 25), teams=[TeamBase(league_id=5002, team_id=1019, team_name='Blitz Platoon', last_changed_date=datetime.date(2024, 4, 23)), TeamBase(league_id=5002, team_id=1016, team_name='Couch Potatoes', last_changed_date=datetime.date(2024, 4, 23)), TeamBase(league_id=5002, team_id=1017, team_name='Draft Day Dummies', last_changed_date=datetime.date(2024, 4, 23)), TeamBase(league_id=5002, team_id=1018, team_name='Endzone Pirates', last_changed_date=datetime.date(2024, 4, 23)), TeamBase(league_id=5002, team_id=1014, team_name='Fourth and Gronk', last_changed_date=datetime.date(2024, 4, 23)), TeamBase(league_id=5002, team_id=1015, team_name='Sunday Mudslingers', last_changed_date=datetime.date(2024, 4, 23)), TeamBase(league_id=5002, team_id=1013, team_name='The Gridiron Goons', last_changed_date=datetime.date(2024, 4, 23)), TeamBase(league_id=5002, team_id=1020, team_name='The Pigskin Pranksters', last_changed_date=datetime.date(2024, 4, 23))]), League(league_id=5003, league_name='AHAHFZZFFFL', scoring_type='Standard', last_changed_date=datetime.date(2024, 4, 25), teams=[]), League(league_id=5004, league_name='Gridiron Gurus Fantasy League', scoring_type='PPR', last_changed_date=datetime.date(2024, 4, 25), teams=[]), League(league_id=5005, league_name='Best League Ever', scoring_type='PPR', last_changed_date=datetime.date(2024, 4, 25), teams=[])]\n"
     ]
    }
   ],
   "source": [
    "leagues_response = client.list_leagues()\n",
    "print(leagues_response)"
   ]
  },
  {
   "cell_type": "code",
   "execution_count": null,
   "id": "a34f0d51",
   "metadata": {},
   "outputs": [],
   "source": []
  }
 ],
 "metadata": {
  "kernelspec": {
   "display_name": "Python 3",
   "language": "python",
   "name": "python3"
  },
  "language_info": {
   "codemirror_mode": {
    "name": "ipython",
    "version": 3
   },
   "file_extension": ".py",
   "mimetype": "text/x-python",
   "name": "python",
   "nbconvert_exporter": "python",
   "pygments_lexer": "ipython3",
   "version": "3.12.1"
  }
 },
 "nbformat": 4,
 "nbformat_minor": 5
}
