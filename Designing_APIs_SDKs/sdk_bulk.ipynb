{
 "cells": [
  {
   "cell_type": "markdown",
   "id": "404f7ecc",
   "metadata": {},
   "source": [
    "# Using SDKs\n",
    "## Exploratory Data Analysis"
   ]
  },
  {
   "cell_type": "code",
   "execution_count": 1,
   "id": "2bed3ade",
   "metadata": {},
   "outputs": [],
   "source": [
    "import logging\n",
    "\n",
    "# Configure the root logger\n",
    "logging.basicConfig(\n",
    "    level=logging.ERROR,  # 👈 this enables DEBUG level output\n",
    "    format=\"%(asctime)s [%(levelname)s] %(name)s - %(message)s\"\n",
    ")\n"
   ]
  },
  {
   "cell_type": "markdown",
   "id": "b1e63aa7",
   "metadata": {},
   "source": [
    "Import SDK and supporting libraries"
   ]
  },
  {
   "cell_type": "code",
   "execution_count": 2,
   "id": "b97a713a",
   "metadata": {},
   "outputs": [],
   "source": [
    "from swcpy.swc_client import SWCClient\n",
    "from swcpy.swc_config import SWCConfig\n",
    "import pandas as pd\n",
    "import io\n",
    "import polars as pl\n"
   ]
  },
  {
   "cell_type": "code",
   "execution_count": 3,
   "id": "bd89d41b",
   "metadata": {},
   "outputs": [
    {
     "name": "stdout",
     "output_type": "stream",
     "text": [
      "SWC_API_BASE_URL in SWCConfig init: https://api.sportsworldcentral.com/\n"
     ]
    }
   ],
   "source": [
    "config = SWCConfig(bulk_file_format=\"parquet\")\n",
    "client = SWCClient(config)    "
   ]
  },
  {
   "cell_type": "markdown",
   "id": "a574f63c",
   "metadata": {},
   "source": [
    "## Bulk Download of Player Data - Parquet Format"
   ]
  },
  {
   "cell_type": "code",
   "execution_count": 9,
   "id": "de1630c5",
   "metadata": {},
   "outputs": [
    {
     "name": "stdout",
     "output_type": "stream",
     "text": [
      "(1018, 6)\n",
      "shape: (5, 6)\n",
      "┌───────────┬────────────┬────────────┬───────────┬──────────┬───────────────────┐\n",
      "│ player_id ┆ gsis_id    ┆ first_name ┆ last_name ┆ position ┆ last_changed_date │\n",
      "│ ---       ┆ ---        ┆ ---        ┆ ---       ┆ ---      ┆ ---               │\n",
      "│ i64       ┆ str        ┆ str        ┆ str       ┆ str      ┆ str               │\n",
      "╞═══════════╪════════════╪════════════╪═══════════╪══════════╪═══════════════════╡\n",
      "│ 1001      ┆ 00-0023459 ┆ Aaron      ┆ Rodgers   ┆ QB       ┆ 2024-04-18        │\n",
      "│ 1002      ┆ 00-0023853 ┆ Matt       ┆ Prater    ┆ K        ┆ 2024-04-18        │\n",
      "│ 1003      ┆ 00-0024243 ┆ Marcedes   ┆ Lewis     ┆ TE       ┆ 2024-04-18        │\n",
      "│ 1004      ┆ 00-0025565 ┆ Nick       ┆ Folk      ┆ K        ┆ 2024-04-18        │\n",
      "│ 1005      ┆ 00-0025580 ┆ Mason      ┆ Crosby    ┆ K        ┆ 2024-04-18        │\n",
      "└───────────┴────────────┴────────────┴───────────┴──────────┴───────────────────┘\n",
      "shape: (9, 7)\n",
      "┌────────────┬────────────┬────────────┬────────────┬────────────┬──────────┬───────────────────┐\n",
      "│ statistic  ┆ player_id  ┆ gsis_id    ┆ first_name ┆ last_name  ┆ position ┆ last_changed_date │\n",
      "│ ---        ┆ ---        ┆ ---        ┆ ---        ┆ ---        ┆ ---      ┆ ---               │\n",
      "│ str        ┆ f64        ┆ str        ┆ str        ┆ str        ┆ str      ┆ str               │\n",
      "╞════════════╪════════════╪════════════╪════════════╪════════════╪══════════╪═══════════════════╡\n",
      "│ count      ┆ 1018.0     ┆ 1018       ┆ 1018       ┆ 1018       ┆ 1018     ┆ 1018              │\n",
      "│ null_count ┆ 0.0        ┆ 0          ┆ 0          ┆ 0          ┆ 0        ┆ 0                 │\n",
      "│ mean       ┆ 1509.5     ┆ null       ┆ null       ┆ null       ┆ null     ┆ null              │\n",
      "│ std        ┆ 294.015589 ┆ null       ┆ null       ┆ null       ┆ null     ┆ null              │\n",
      "│ min        ┆ 1001.0     ┆ 00-0023459 ┆ A.J.       ┆ Abanikanda ┆ K        ┆ 2024-04-18        │\n",
      "│ 25%        ┆ 1255.0     ┆ null       ┆ null       ┆ null       ┆ null     ┆ null              │\n",
      "│ 50%        ┆ 1510.0     ┆ null       ┆ null       ┆ null       ┆ null     ┆ null              │\n",
      "│ 75%        ┆ 1764.0     ┆ null       ┆ null       ┆ null       ┆ null     ┆ null              │\n",
      "│ max        ┆ 2018.0     ┆ 00-0039191 ┆ Zion       ┆ Zylstra    ┆ WR       ┆ 2024-04-18        │\n",
      "└────────────┴────────────┴────────────┴────────────┴────────────┴──────────┴───────────────────┘\n"
     ]
    }
   ],
   "source": [
    "player_bulk_data = io.BytesIO(client.get_bulk_player_file())\n",
    "df = pl.read_parquet(player_bulk_data)\n",
    "\n",
    "print(df.shape)\n",
    "print(df.head())\n",
    "print(df.describe())\n"
   ]
  },
  {
   "cell_type": "code",
   "execution_count": 6,
   "id": "99211b00",
   "metadata": {},
   "outputs": [
    {
     "data": {
      "image/png": "[encoded data removed]",
      "text/plain": [
       "<Figure size 640x480 with 1 Axes>"
      ]
     },
     "metadata": {},
     "output_type": "display_data"
    }
   ],
   "source": [
    "import matplotlib.pyplot as plt\n",
    "\n",
    "# assuming your dataframe is named df\n",
    "df[\"position\"].to_pandas().value_counts().plot(kind=\"bar\")\n",
    "\n",
    "plt.title(\"Player Count by Position\")\n",
    "plt.xlabel(\"Position\")\n",
    "plt.ylabel(\"Count\")\n",
    "plt.show()\n"
   ]
  },
  {
   "cell_type": "code",
   "execution_count": null,
   "id": "2f8d2f40",
   "metadata": {},
   "outputs": [],
   "source": []
  }
 ],
 "metadata": {
  "kernelspec": {
   "display_name": "Python 3",
   "language": "python",
   "name": "python3"
  },
  "language_info": {
   "codemirror_mode": {
    "name": "ipython",
    "version": 3
   },
   "file_extension": ".py",
   "mimetype": "text/x-python",
   "name": "python",
   "nbconvert_exporter": "python",
   "pygments_lexer": "ipython3",
   "version": "3.12.1"
  }
 },
 "nbformat": 4,
 "nbformat_minor": 5
}
